{
  "cells": [
    {
      "cell_type": "code",
      "source": [
        "import pandas as pd\n",
        "import numpy as np\n",
        "from sklearn.model_selection import train_test_split\n",
        "from sklearn.preprocessing import StandardScaler\n",
        "from tensorflow.keras.models import Sequential\n",
        "from tensorflow.keras.layers import Conv1D, MaxPooling1D, Flatten, Dense\n",
        "from tensorflow.keras import layers, models"
      ],
      "metadata": {
        "id": "Ee2Z-M2Yk-wP"
      },
      "execution_count": null,
      "outputs": []
    },
    {
      "cell_type": "markdown",
      "source": [
        "Loading Excel Data\n"
      ],
      "metadata": {
        "id": "bgwkrXh9mGKf"
      }
    },
    {
      "cell_type": "code",
      "source": [
        "data = pd.read_excel('finaldata.xlsx')"
      ],
      "metadata": {
        "id": "vwJmZosNmKHu"
      },
      "execution_count": null,
      "outputs": []
    },
    {
      "cell_type": "code",
      "source": [
        "X = data.iloc[:, :-1]\n",
        "y = data.iloc[:, -1]"
      ],
      "metadata": {
        "id": "VjxS_zQnmXEN"
      },
      "execution_count": null,
      "outputs": []
    },
    {
      "cell_type": "code",
      "source": [
        "print(X)\n",
        "print(y)"
      ],
      "metadata": {
        "id": "oVyWJep0t9yI",
        "outputId": "01601b7b-9720-4667-a962-22e42e837234",
        "colab": {
          "base_uri": "https://localhost:8080/"
        }
      },
      "execution_count": null,
      "outputs": [
        {
          "output_type": "stream",
          "name": "stdout",
          "text": [
            "         T(amb)       SOC  Volatage(v)  Current(A)    C rate\n",
            "0      0.777778  0.360934     0.990475    0.999533  1.000000\n",
            "1      0.777778  0.764973     0.968728    0.333000  0.333333\n",
            "2      0.888889  0.221659     0.898087    0.333067  0.333333\n",
            "3      0.777778  0.785699     0.974125    0.333067  0.333333\n",
            "4      0.888889  0.034415     0.856179    0.333133  0.333333\n",
            "...         ...       ...          ...         ...       ...\n",
            "45929  0.777778  0.795432     0.999524    0.512364  1.000000\n",
            "45930  0.777778  0.793439     0.999524    0.516497  1.000000\n",
            "45931  0.777778  0.770430     0.999683    0.563021  1.000000\n",
            "45932  0.888889  0.301834     0.994920    0.999800  1.000000\n",
            "45933  0.888889  0.305776     0.995396    0.999800  1.000000\n",
            "\n",
            "[45934 rows x 5 columns]\n",
            "0        0.782600\n",
            "1        0.732863\n",
            "2        0.731811\n",
            "3        0.734295\n",
            "4        0.670448\n",
            "           ...   \n",
            "45929    0.978157\n",
            "45930    0.977909\n",
            "45931    0.977550\n",
            "45932    0.989516\n",
            "45933    0.992723\n",
            "Name: T1, Length: 45934, dtype: float64\n"
          ]
        }
      ]
    },
    {
      "cell_type": "markdown",
      "source": [
        "Splitting the data into test set and tarining set"
      ],
      "metadata": {
        "id": "axuHaVWFmphH"
      }
    },
    {
      "cell_type": "code",
      "source": [
        "X_train, X_test, y_train, y_test = train_test_split(X, y, test_size=0.2, random_state=42)"
      ],
      "metadata": {
        "id": "QH8lsi9fmvaz"
      },
      "execution_count": null,
      "outputs": []
    },
    {
      "cell_type": "markdown",
      "source": [
        "Building CNN Model"
      ],
      "metadata": {
        "id": "yDSJc3YDpNzU"
      }
    },
    {
      "cell_type": "code",
      "source": [
        "model = Sequential()\n",
        "model.add(Conv1D(filters = 64, kernel_size=3, activation ='relu', input_shape=(X_train.shape[1],1)))\n",
        "model.add(MaxPooling1D(pool_size=2))\n",
        "model.add(Flatten())\n",
        "model.add(Dense(64, activation = 'relu'))\n",
        "model.add(Dense(1, activation='sigmoid'))"
      ],
      "metadata": {
        "id": "vUmunfMepRRU"
      },
      "execution_count": null,
      "outputs": []
    },
    {
      "cell_type": "markdown",
      "source": [
        "Compile the Model"
      ],
      "metadata": {
        "id": "pqBTkDJ-qr9s"
      }
    },
    {
      "cell_type": "code",
      "source": [
        "model.compile(optimizer ='adam',loss = 'binary_crossentropy', metrics=['accuracy'])"
      ],
      "metadata": {
        "id": "o6Z5JF_tquMw"
      },
      "execution_count": null,
      "outputs": []
    },
    {
      "cell_type": "markdown",
      "source": [
        "Train the Model"
      ],
      "metadata": {
        "id": "cFXfYl6urKkQ"
      }
    },
    {
      "cell_type": "code",
      "source": [
        "model.fit(X_train, y_train, epochs=100, batch_size=32, validation_data=(X_test, y_test))"
      ],
      "metadata": {
        "id": "c3mqE0dBrNwD",
        "outputId": "5d02574e-0848-4979-aa9c-6e52baa155d1",
        "colab": {
          "base_uri": "https://localhost:8080/"
        }
      },
      "execution_count": null,
      "outputs": [
        {
          "output_type": "stream",
          "name": "stdout",
          "text": [
            "Epoch 1/100\n",
            "1149/1149 [==============================] - 6s 4ms/step - loss: 0.5363 - accuracy: 0.0000e+00 - val_loss: 0.5254 - val_accuracy: 1.0885e-04\n",
            "Epoch 2/100\n",
            "1149/1149 [==============================] - 3s 2ms/step - loss: 0.5252 - accuracy: 0.0000e+00 - val_loss: 0.5250 - val_accuracy: 1.0885e-04\n",
            "Epoch 3/100\n",
            "1149/1149 [==============================] - 3s 3ms/step - loss: 0.5248 - accuracy: 0.0000e+00 - val_loss: 0.5241 - val_accuracy: 1.0885e-04\n",
            "Epoch 4/100\n",
            "1149/1149 [==============================] - 3s 3ms/step - loss: 0.5244 - accuracy: 0.0000e+00 - val_loss: 0.5239 - val_accuracy: 1.0885e-04\n",
            "Epoch 5/100\n",
            "1149/1149 [==============================] - 4s 4ms/step - loss: 0.5240 - accuracy: 0.0000e+00 - val_loss: 0.5241 - val_accuracy: 1.0885e-04\n",
            "Epoch 6/100\n",
            "1149/1149 [==============================] - 3s 3ms/step - loss: 0.5237 - accuracy: 0.0000e+00 - val_loss: 0.5232 - val_accuracy: 1.0885e-04\n",
            "Epoch 7/100\n",
            "1149/1149 [==============================] - 3s 2ms/step - loss: 0.5236 - accuracy: 0.0000e+00 - val_loss: 0.5248 - val_accuracy: 1.0885e-04\n",
            "Epoch 8/100\n",
            "1149/1149 [==============================] - 3s 3ms/step - loss: 0.5234 - accuracy: 0.0000e+00 - val_loss: 0.5229 - val_accuracy: 1.0885e-04\n",
            "Epoch 9/100\n",
            "1149/1149 [==============================] - 3s 3ms/step - loss: 0.5231 - accuracy: 0.0000e+00 - val_loss: 0.5226 - val_accuracy: 1.0885e-04\n",
            "Epoch 10/100\n",
            "1149/1149 [==============================] - 4s 3ms/step - loss: 0.5230 - accuracy: 0.0000e+00 - val_loss: 0.5226 - val_accuracy: 1.0885e-04\n",
            "Epoch 11/100\n",
            "1149/1149 [==============================] - 3s 3ms/step - loss: 0.5230 - accuracy: 0.0000e+00 - val_loss: 0.5230 - val_accuracy: 1.0885e-04\n",
            "Epoch 12/100\n",
            "1149/1149 [==============================] - 3s 3ms/step - loss: 0.5229 - accuracy: 0.0000e+00 - val_loss: 0.5230 - val_accuracy: 1.0885e-04\n",
            "Epoch 13/100\n",
            "1149/1149 [==============================] - 3s 2ms/step - loss: 0.5227 - accuracy: 0.0000e+00 - val_loss: 0.5224 - val_accuracy: 1.0885e-04\n",
            "Epoch 14/100\n",
            "1149/1149 [==============================] - 4s 3ms/step - loss: 0.5226 - accuracy: 0.0000e+00 - val_loss: 0.5232 - val_accuracy: 1.0885e-04\n",
            "Epoch 15/100\n",
            "1149/1149 [==============================] - 3s 3ms/step - loss: 0.5227 - accuracy: 0.0000e+00 - val_loss: 0.5221 - val_accuracy: 1.0885e-04\n",
            "Epoch 16/100\n",
            "1149/1149 [==============================] - 3s 3ms/step - loss: 0.5225 - accuracy: 0.0000e+00 - val_loss: 0.5221 - val_accuracy: 1.0885e-04\n",
            "Epoch 17/100\n",
            "1149/1149 [==============================] - 3s 3ms/step - loss: 0.5224 - accuracy: 0.0000e+00 - val_loss: 0.5219 - val_accuracy: 1.0885e-04\n",
            "Epoch 18/100\n",
            "1149/1149 [==============================] - 4s 3ms/step - loss: 0.5223 - accuracy: 0.0000e+00 - val_loss: 0.5220 - val_accuracy: 1.0885e-04\n",
            "Epoch 19/100\n",
            "1149/1149 [==============================] - 3s 3ms/step - loss: 0.5222 - accuracy: 0.0000e+00 - val_loss: 0.5224 - val_accuracy: 1.0885e-04\n",
            "Epoch 20/100\n",
            "1149/1149 [==============================] - 3s 2ms/step - loss: 0.5222 - accuracy: 0.0000e+00 - val_loss: 0.5216 - val_accuracy: 1.0885e-04\n",
            "Epoch 21/100\n",
            "1149/1149 [==============================] - 3s 2ms/step - loss: 0.5220 - accuracy: 0.0000e+00 - val_loss: 0.5220 - val_accuracy: 1.0885e-04\n",
            "Epoch 22/100\n",
            "1149/1149 [==============================] - 3s 2ms/step - loss: 0.5220 - accuracy: 0.0000e+00 - val_loss: 0.5222 - val_accuracy: 1.0885e-04\n",
            "Epoch 23/100\n",
            "1149/1149 [==============================] - 4s 3ms/step - loss: 0.5220 - accuracy: 0.0000e+00 - val_loss: 0.5215 - val_accuracy: 1.0885e-04\n",
            "Epoch 24/100\n",
            "1149/1149 [==============================] - 3s 2ms/step - loss: 0.5219 - accuracy: 0.0000e+00 - val_loss: 0.5215 - val_accuracy: 1.0885e-04\n",
            "Epoch 25/100\n",
            "1149/1149 [==============================] - 3s 3ms/step - loss: 0.5218 - accuracy: 0.0000e+00 - val_loss: 0.5214 - val_accuracy: 1.0885e-04\n",
            "Epoch 26/100\n",
            "1149/1149 [==============================] - 3s 3ms/step - loss: 0.5217 - accuracy: 0.0000e+00 - val_loss: 0.5216 - val_accuracy: 1.0885e-04\n",
            "Epoch 27/100\n",
            "1149/1149 [==============================] - 3s 3ms/step - loss: 0.5217 - accuracy: 0.0000e+00 - val_loss: 0.5214 - val_accuracy: 1.0885e-04\n",
            "Epoch 28/100\n",
            "1149/1149 [==============================] - 3s 3ms/step - loss: 0.5217 - accuracy: 0.0000e+00 - val_loss: 0.5211 - val_accuracy: 1.0885e-04\n",
            "Epoch 29/100\n",
            "1149/1149 [==============================] - 3s 2ms/step - loss: 0.5216 - accuracy: 0.0000e+00 - val_loss: 0.5211 - val_accuracy: 1.0885e-04\n",
            "Epoch 30/100\n",
            "1149/1149 [==============================] - 3s 2ms/step - loss: 0.5216 - accuracy: 0.0000e+00 - val_loss: 0.5210 - val_accuracy: 1.0885e-04\n",
            "Epoch 31/100\n",
            "1149/1149 [==============================] - 3s 2ms/step - loss: 0.5216 - accuracy: 0.0000e+00 - val_loss: 0.5209 - val_accuracy: 1.0885e-04\n",
            "Epoch 32/100\n",
            "1149/1149 [==============================] - 4s 3ms/step - loss: 0.5214 - accuracy: 0.0000e+00 - val_loss: 0.5212 - val_accuracy: 1.0885e-04\n",
            "Epoch 33/100\n",
            "1149/1149 [==============================] - 3s 3ms/step - loss: 0.5215 - accuracy: 0.0000e+00 - val_loss: 0.5212 - val_accuracy: 1.0885e-04\n",
            "Epoch 34/100\n",
            "1149/1149 [==============================] - 3s 2ms/step - loss: 0.5213 - accuracy: 0.0000e+00 - val_loss: 0.5208 - val_accuracy: 1.0885e-04\n",
            "Epoch 35/100\n",
            "1149/1149 [==============================] - 3s 2ms/step - loss: 0.5214 - accuracy: 0.0000e+00 - val_loss: 0.5208 - val_accuracy: 1.0885e-04\n",
            "Epoch 36/100\n",
            "1149/1149 [==============================] - 3s 3ms/step - loss: 0.5213 - accuracy: 0.0000e+00 - val_loss: 0.5219 - val_accuracy: 1.0885e-04\n",
            "Epoch 37/100\n",
            "1149/1149 [==============================] - 3s 3ms/step - loss: 0.5213 - accuracy: 0.0000e+00 - val_loss: 0.5213 - val_accuracy: 1.0885e-04\n",
            "Epoch 38/100\n",
            "1149/1149 [==============================] - 3s 2ms/step - loss: 0.5213 - accuracy: 0.0000e+00 - val_loss: 0.5221 - val_accuracy: 1.0885e-04\n",
            "Epoch 39/100\n",
            "1149/1149 [==============================] - 3s 2ms/step - loss: 0.5212 - accuracy: 0.0000e+00 - val_loss: 0.5208 - val_accuracy: 1.0885e-04\n",
            "Epoch 40/100\n",
            "1149/1149 [==============================] - 3s 2ms/step - loss: 0.5212 - accuracy: 0.0000e+00 - val_loss: 0.5206 - val_accuracy: 1.0885e-04\n",
            "Epoch 41/100\n",
            "1149/1149 [==============================] - 4s 4ms/step - loss: 0.5212 - accuracy: 0.0000e+00 - val_loss: 0.5207 - val_accuracy: 1.0885e-04\n",
            "Epoch 42/100\n",
            "1149/1149 [==============================] - 3s 3ms/step - loss: 0.5211 - accuracy: 0.0000e+00 - val_loss: 0.5211 - val_accuracy: 1.0885e-04\n",
            "Epoch 43/100\n",
            "1149/1149 [==============================] - 3s 2ms/step - loss: 0.5211 - accuracy: 0.0000e+00 - val_loss: 0.5209 - val_accuracy: 1.0885e-04\n",
            "Epoch 44/100\n",
            "1149/1149 [==============================] - 3s 3ms/step - loss: 0.5211 - accuracy: 0.0000e+00 - val_loss: 0.5213 - val_accuracy: 1.0885e-04\n",
            "Epoch 45/100\n",
            "1149/1149 [==============================] - 4s 3ms/step - loss: 0.5211 - accuracy: 0.0000e+00 - val_loss: 0.5213 - val_accuracy: 1.0885e-04\n",
            "Epoch 46/100\n",
            "1149/1149 [==============================] - 3s 3ms/step - loss: 0.5210 - accuracy: 0.0000e+00 - val_loss: 0.5206 - val_accuracy: 1.0885e-04\n",
            "Epoch 47/100\n",
            "1149/1149 [==============================] - 3s 2ms/step - loss: 0.5211 - accuracy: 0.0000e+00 - val_loss: 0.5204 - val_accuracy: 1.0885e-04\n",
            "Epoch 48/100\n",
            "1149/1149 [==============================] - 3s 2ms/step - loss: 0.5211 - accuracy: 0.0000e+00 - val_loss: 0.5205 - val_accuracy: 1.0885e-04\n",
            "Epoch 49/100\n",
            "1149/1149 [==============================] - 3s 3ms/step - loss: 0.5209 - accuracy: 0.0000e+00 - val_loss: 0.5211 - val_accuracy: 1.0885e-04\n",
            "Epoch 50/100\n",
            "1149/1149 [==============================] - 4s 3ms/step - loss: 0.5209 - accuracy: 0.0000e+00 - val_loss: 0.5205 - val_accuracy: 1.0885e-04\n",
            "Epoch 51/100\n",
            "1149/1149 [==============================] - 3s 3ms/step - loss: 0.5211 - accuracy: 0.0000e+00 - val_loss: 0.5215 - val_accuracy: 1.0885e-04\n",
            "Epoch 52/100\n",
            "1149/1149 [==============================] - 3s 3ms/step - loss: 0.5209 - accuracy: 0.0000e+00 - val_loss: 0.5219 - val_accuracy: 1.0885e-04\n",
            "Epoch 53/100\n",
            "1149/1149 [==============================] - 4s 3ms/step - loss: 0.5211 - accuracy: 0.0000e+00 - val_loss: 0.5203 - val_accuracy: 1.0885e-04\n",
            "Epoch 54/100\n",
            "1149/1149 [==============================] - 4s 3ms/step - loss: 0.5211 - accuracy: 0.0000e+00 - val_loss: 0.5206 - val_accuracy: 1.0885e-04\n",
            "Epoch 55/100\n",
            "1149/1149 [==============================] - 3s 3ms/step - loss: 0.5208 - accuracy: 0.0000e+00 - val_loss: 0.5205 - val_accuracy: 1.0885e-04\n",
            "Epoch 56/100\n",
            "1149/1149 [==============================] - 3s 3ms/step - loss: 0.5210 - accuracy: 0.0000e+00 - val_loss: 0.5204 - val_accuracy: 1.0885e-04\n",
            "Epoch 57/100\n",
            "1149/1149 [==============================] - 3s 3ms/step - loss: 0.5208 - accuracy: 0.0000e+00 - val_loss: 0.5206 - val_accuracy: 1.0885e-04\n",
            "Epoch 58/100\n",
            "1149/1149 [==============================] - 4s 3ms/step - loss: 0.5208 - accuracy: 0.0000e+00 - val_loss: 0.5203 - val_accuracy: 1.0885e-04\n",
            "Epoch 59/100\n",
            "1149/1149 [==============================] - 3s 3ms/step - loss: 0.5209 - accuracy: 0.0000e+00 - val_loss: 0.5208 - val_accuracy: 1.0885e-04\n",
            "Epoch 60/100\n",
            "1149/1149 [==============================] - 3s 2ms/step - loss: 0.5207 - accuracy: 0.0000e+00 - val_loss: 0.5240 - val_accuracy: 1.0885e-04\n",
            "Epoch 61/100\n",
            "1149/1149 [==============================] - 3s 3ms/step - loss: 0.5208 - accuracy: 0.0000e+00 - val_loss: 0.5215 - val_accuracy: 1.0885e-04\n",
            "Epoch 62/100\n",
            "1149/1149 [==============================] - 4s 4ms/step - loss: 0.5208 - accuracy: 0.0000e+00 - val_loss: 0.5207 - val_accuracy: 1.0885e-04\n",
            "Epoch 63/100\n",
            "1149/1149 [==============================] - 3s 3ms/step - loss: 0.5207 - accuracy: 0.0000e+00 - val_loss: 0.5204 - val_accuracy: 1.0885e-04\n",
            "Epoch 64/100\n",
            "1149/1149 [==============================] - 3s 2ms/step - loss: 0.5208 - accuracy: 0.0000e+00 - val_loss: 0.5201 - val_accuracy: 1.0885e-04\n",
            "Epoch 65/100\n",
            "1149/1149 [==============================] - 3s 2ms/step - loss: 0.5207 - accuracy: 0.0000e+00 - val_loss: 0.5206 - val_accuracy: 1.0885e-04\n",
            "Epoch 66/100\n",
            "1149/1149 [==============================] - 4s 3ms/step - loss: 0.5207 - accuracy: 0.0000e+00 - val_loss: 0.5202 - val_accuracy: 1.0885e-04\n",
            "Epoch 67/100\n",
            "1149/1149 [==============================] - 3s 3ms/step - loss: 0.5206 - accuracy: 0.0000e+00 - val_loss: 0.5200 - val_accuracy: 1.0885e-04\n",
            "Epoch 68/100\n",
            "1149/1149 [==============================] - 3s 3ms/step - loss: 0.5206 - accuracy: 0.0000e+00 - val_loss: 0.5211 - val_accuracy: 1.0885e-04\n",
            "Epoch 69/100\n",
            "1149/1149 [==============================] - 3s 3ms/step - loss: 0.5206 - accuracy: 0.0000e+00 - val_loss: 0.5208 - val_accuracy: 1.0885e-04\n",
            "Epoch 70/100\n",
            "1149/1149 [==============================] - 4s 3ms/step - loss: 0.5207 - accuracy: 0.0000e+00 - val_loss: 0.5200 - val_accuracy: 1.0885e-04\n",
            "Epoch 71/100\n",
            "1149/1149 [==============================] - 4s 3ms/step - loss: 0.5206 - accuracy: 0.0000e+00 - val_loss: 0.5200 - val_accuracy: 1.0885e-04\n",
            "Epoch 72/100\n",
            "1149/1149 [==============================] - 3s 2ms/step - loss: 0.5205 - accuracy: 0.0000e+00 - val_loss: 0.5203 - val_accuracy: 1.0885e-04\n",
            "Epoch 73/100\n",
            "1149/1149 [==============================] - 3s 3ms/step - loss: 0.5206 - accuracy: 0.0000e+00 - val_loss: 0.5209 - val_accuracy: 1.0885e-04\n",
            "Epoch 74/100\n",
            "1149/1149 [==============================] - 4s 3ms/step - loss: 0.5206 - accuracy: 0.0000e+00 - val_loss: 0.5205 - val_accuracy: 1.0885e-04\n",
            "Epoch 75/100\n",
            "1149/1149 [==============================] - 4s 3ms/step - loss: 0.5206 - accuracy: 0.0000e+00 - val_loss: 0.5203 - val_accuracy: 1.0885e-04\n",
            "Epoch 76/100\n",
            "1149/1149 [==============================] - 3s 3ms/step - loss: 0.5207 - accuracy: 0.0000e+00 - val_loss: 0.5245 - val_accuracy: 1.0885e-04\n",
            "Epoch 77/100\n",
            "1149/1149 [==============================] - 3s 3ms/step - loss: 0.5206 - accuracy: 0.0000e+00 - val_loss: 0.5199 - val_accuracy: 1.0885e-04\n",
            "Epoch 78/100\n",
            "1149/1149 [==============================] - 3s 3ms/step - loss: 0.5206 - accuracy: 0.0000e+00 - val_loss: 0.5206 - val_accuracy: 1.0885e-04\n",
            "Epoch 79/100\n",
            "1149/1149 [==============================] - 4s 3ms/step - loss: 0.5206 - accuracy: 0.0000e+00 - val_loss: 0.5199 - val_accuracy: 1.0885e-04\n",
            "Epoch 80/100\n",
            "1149/1149 [==============================] - 3s 2ms/step - loss: 0.5205 - accuracy: 0.0000e+00 - val_loss: 0.5198 - val_accuracy: 1.0885e-04\n",
            "Epoch 81/100\n",
            "1149/1149 [==============================] - 3s 3ms/step - loss: 0.5206 - accuracy: 0.0000e+00 - val_loss: 0.5218 - val_accuracy: 1.0885e-04\n",
            "Epoch 82/100\n",
            "1149/1149 [==============================] - 3s 3ms/step - loss: 0.5206 - accuracy: 0.0000e+00 - val_loss: 0.5205 - val_accuracy: 1.0885e-04\n",
            "Epoch 83/100\n",
            "1149/1149 [==============================] - 4s 4ms/step - loss: 0.5204 - accuracy: 0.0000e+00 - val_loss: 0.5198 - val_accuracy: 1.0885e-04\n",
            "Epoch 84/100\n",
            "1149/1149 [==============================] - 3s 3ms/step - loss: 0.5205 - accuracy: 0.0000e+00 - val_loss: 0.5198 - val_accuracy: 1.0885e-04\n",
            "Epoch 85/100\n",
            "1149/1149 [==============================] - 3s 3ms/step - loss: 0.5204 - accuracy: 0.0000e+00 - val_loss: 0.5198 - val_accuracy: 1.0885e-04\n",
            "Epoch 86/100\n",
            "1149/1149 [==============================] - 3s 3ms/step - loss: 0.5204 - accuracy: 0.0000e+00 - val_loss: 0.5206 - val_accuracy: 1.0885e-04\n",
            "Epoch 87/100\n",
            "1149/1149 [==============================] - 4s 4ms/step - loss: 0.5204 - accuracy: 0.0000e+00 - val_loss: 0.5197 - val_accuracy: 1.0885e-04\n",
            "Epoch 88/100\n",
            "1149/1149 [==============================] - 3s 3ms/step - loss: 0.5206 - accuracy: 0.0000e+00 - val_loss: 0.5202 - val_accuracy: 1.0885e-04\n",
            "Epoch 89/100\n",
            "1149/1149 [==============================] - 3s 3ms/step - loss: 0.5204 - accuracy: 0.0000e+00 - val_loss: 0.5204 - val_accuracy: 1.0885e-04\n",
            "Epoch 90/100\n",
            "1149/1149 [==============================] - 3s 3ms/step - loss: 0.5203 - accuracy: 0.0000e+00 - val_loss: 0.5196 - val_accuracy: 1.0885e-04\n",
            "Epoch 91/100\n",
            "1149/1149 [==============================] - 4s 4ms/step - loss: 0.5206 - accuracy: 0.0000e+00 - val_loss: 0.5199 - val_accuracy: 1.0885e-04\n",
            "Epoch 92/100\n",
            "1149/1149 [==============================] - 3s 3ms/step - loss: 0.5203 - accuracy: 0.0000e+00 - val_loss: 0.5206 - val_accuracy: 1.0885e-04\n",
            "Epoch 93/100\n",
            "1149/1149 [==============================] - 3s 3ms/step - loss: 0.5203 - accuracy: 0.0000e+00 - val_loss: 0.5196 - val_accuracy: 1.0885e-04\n",
            "Epoch 94/100\n",
            "1149/1149 [==============================] - 4s 3ms/step - loss: 0.5204 - accuracy: 0.0000e+00 - val_loss: 0.5195 - val_accuracy: 1.0885e-04\n",
            "Epoch 95/100\n",
            "1149/1149 [==============================] - 4s 3ms/step - loss: 0.5205 - accuracy: 0.0000e+00 - val_loss: 0.5225 - val_accuracy: 1.0885e-04\n",
            "Epoch 96/100\n",
            "1149/1149 [==============================] - 3s 3ms/step - loss: 0.5205 - accuracy: 0.0000e+00 - val_loss: 0.5205 - val_accuracy: 1.0885e-04\n",
            "Epoch 97/100\n",
            "1149/1149 [==============================] - 3s 3ms/step - loss: 0.5204 - accuracy: 0.0000e+00 - val_loss: 0.5199 - val_accuracy: 1.0885e-04\n",
            "Epoch 98/100\n",
            "1149/1149 [==============================] - 4s 3ms/step - loss: 0.5203 - accuracy: 0.0000e+00 - val_loss: 0.5212 - val_accuracy: 1.0885e-04\n",
            "Epoch 99/100\n",
            "1149/1149 [==============================] - 4s 3ms/step - loss: 0.5204 - accuracy: 0.0000e+00 - val_loss: 0.5195 - val_accuracy: 1.0885e-04\n",
            "Epoch 100/100\n",
            "1149/1149 [==============================] - 3s 3ms/step - loss: 0.5202 - accuracy: 0.0000e+00 - val_loss: 0.5212 - val_accuracy: 1.0885e-04\n"
          ]
        },
        {
          "output_type": "execute_result",
          "data": {
            "text/plain": [
              "<keras.src.callbacks.History at 0x7979f8a82dd0>"
            ]
          },
          "metadata": {},
          "execution_count": 12
        }
      ]
    },
    {
      "cell_type": "code",
      "source": [
        "y_pred = model.predict(X_test)\n"
      ],
      "metadata": {
        "id": "Msy9n4cktxJR",
        "colab": {
          "base_uri": "https://localhost:8080/"
        },
        "outputId": "e3cf8400-bbf5-44d7-845d-a37f8e7aa90c"
      },
      "execution_count": null,
      "outputs": [
        {
          "output_type": "stream",
          "name": "stdout",
          "text": [
            "288/288 [==============================] - 1s 1ms/step\n"
          ]
        }
      ]
    },
    {
      "cell_type": "code",
      "source": [
        "print(\"Predictions:\", y_pred[:20])\n",
        "print(\"True values:\", y_test[:20])"
      ],
      "metadata": {
        "colab": {
          "base_uri": "https://localhost:8080/"
        },
        "id": "20cr9qm60FfF",
        "outputId": "cf8029c4-c683-44f3-aa4f-7d3cfe69299b"
      },
      "execution_count": null,
      "outputs": [
        {
          "output_type": "stream",
          "name": "stdout",
          "text": [
            "Predictions: [[0.69868916]\n",
            " [0.7078832 ]\n",
            " [0.8689011 ]\n",
            " [0.73837817]\n",
            " [0.6186734 ]\n",
            " [0.9738275 ]\n",
            " [0.7274521 ]\n",
            " [0.8818492 ]\n",
            " [0.8002788 ]\n",
            " [0.7124472 ]\n",
            " [0.7176718 ]\n",
            " [0.8739162 ]\n",
            " [0.7624848 ]\n",
            " [0.738393  ]\n",
            " [0.61081576]\n",
            " [0.89156604]\n",
            " [0.8385635 ]\n",
            " [0.49118537]\n",
            " [0.8839437 ]\n",
            " [0.6612826 ]]\n",
            "True values: 19484    0.700610\n",
            "30758    0.704224\n",
            "3184     0.881066\n",
            "36056    0.740404\n",
            "13363    0.631977\n",
            "45568    0.977336\n",
            "33807    0.734828\n",
            "4657     0.884999\n",
            "9480     0.804376\n",
            "30532    0.708607\n",
            "30489    0.723051\n",
            "35750    0.903242\n",
            "8850     0.766448\n",
            "39077    0.822059\n",
            "20217    0.614362\n",
            "43949    0.896258\n",
            "38630    0.839419\n",
            "23502    0.499494\n",
            "27513    0.902954\n",
            "25764    0.664156\n",
            "Name: T1, dtype: float64\n"
          ]
        }
      ]
    },
    {
      "cell_type": "code",
      "source": [
        "difference = y_test - y_pred.flatten()\n",
        "print(difference)"
      ],
      "metadata": {
        "colab": {
          "base_uri": "https://localhost:8080/"
        },
        "id": "8JTNJD1L8Y_x",
        "outputId": "aeaa6330-b4f6-4e79-ea18-6a0a5f3d0fb7"
      },
      "execution_count": null,
      "outputs": [
        {
          "output_type": "stream",
          "name": "stdout",
          "text": [
            "19484    0.001921\n",
            "30758   -0.003659\n",
            "3184     0.012165\n",
            "36056    0.002026\n",
            "13363    0.013303\n",
            "           ...   \n",
            "35314    0.005334\n",
            "18536    0.004343\n",
            "26827    0.000562\n",
            "17895    0.017420\n",
            "6043     0.004880\n",
            "Name: T1, Length: 9187, dtype: float64\n"
          ]
        }
      ]
    },
    {
      "cell_type": "code",
      "source": [
        "standarddeviation = np.std(difference)\n",
        "print(standarddeviation)"
      ],
      "metadata": {
        "colab": {
          "base_uri": "https://localhost:8080/"
        },
        "id": "1GFRG17r9pJX",
        "outputId": "dfa4d711-ec04-40ae-b95f-83d49835ed0e"
      },
      "execution_count": null,
      "outputs": [
        {
          "output_type": "stream",
          "name": "stdout",
          "text": [
            "0.032166819085122526\n"
          ]
        }
      ]
    },
    {
      "cell_type": "code",
      "source": [
        "from sklearn.metrics import mean_squared_error\n",
        "mse = mean_squared_error(y_test, y_pred)\n",
        "print(\"Mean Squared Error:\", mse)\n",
        "rmse = np.sqrt(mse)\n",
        "print(\"Root Mean Squared Error\", rmse)"
      ],
      "metadata": {
        "colab": {
          "base_uri": "https://localhost:8080/"
        },
        "id": "aZ33UdCvB1TL",
        "outputId": "7658290e-40b4-4ce4-f288-1b4c1802f0aa"
      },
      "execution_count": null,
      "outputs": [
        {
          "output_type": "stream",
          "name": "stdout",
          "text": [
            "Mean Squared Error: 0.00123455499877959\n",
            "Root Mean Squared Error 0.03513623484068249\n"
          ]
        }
      ]
    },
    {
      "cell_type": "markdown",
      "source": [
        "Coefficient of Determination"
      ],
      "metadata": {
        "id": "r2luHXNDwN_S"
      }
    },
    {
      "cell_type": "code",
      "source": [
        "from sklearn.metrics import r2_score"
      ],
      "metadata": {
        "id": "GBFQbwTo1Ywb"
      },
      "execution_count": null,
      "outputs": []
    },
    {
      "cell_type": "code",
      "source": [
        "r2 = r2_score(y_test, y_pred)\n",
        "print(\"Coefficient of determination R^(2):\", r2)"
      ],
      "metadata": {
        "colab": {
          "base_uri": "https://localhost:8080/"
        },
        "id": "YpTGn98T1g4z",
        "outputId": "9bfeeab8-9470-4e2e-fa2a-a978ab22e29a"
      },
      "execution_count": null,
      "outputs": [
        {
          "output_type": "stream",
          "name": "stdout",
          "text": [
            "Coefficient of determination R^(2): 0.9104339878986015\n"
          ]
        }
      ]
    },
    {
      "cell_type": "markdown",
      "source": [
        "Scatter Plot"
      ],
      "metadata": {
        "id": "znkY4HSRwW35"
      }
    },
    {
      "cell_type": "code",
      "source": [
        "import matplotlib.pyplot as  plt\n",
        "plt.figure(figsize=(8,6))\n",
        "plt.scatter(y_test, y_test, color='blue', label='True Values')\n",
        "plt.scatter(y_test, y_pred, color='red', label='Predicted Values')\n",
        "plt.title('Scatter plot of Predicted vs True values')\n",
        "plt.grid(True)\n",
        "plt.show()\n"
      ],
      "metadata": {
        "colab": {
          "base_uri": "https://localhost:8080/",
          "height": 545
        },
        "id": "zfRpmiMTEWYE",
        "outputId": "35fb45d1-613b-4d8b-cd16-2007234037e1"
      },
      "execution_count": null,
      "outputs": [
        {
          "output_type": "display_data",
          "data": {
            "text/plain": [
              "<Figure size 800x600 with 1 Axes>"
            ],
            "image/png": "[encoded data removed]"
          },
          "metadata": {}
        }
      ]
    },
    {
      "cell_type": "markdown",
      "source": [
        "Importing from google drive"
      ],
      "metadata": {
        "id": "WIki7qP5wa0B"
      }
    },
    {
      "cell_type": "code",
      "source": [
        "from google.colab import drive\n",
        "drive.mount('/content/drive')"
      ],
      "metadata": {
        "colab": {
          "base_uri": "https://localhost:8080/"
        },
        "id": "aTXzwwYlkv-j",
        "outputId": "dcc52e6f-f187-42b8-f6ab-0266cff03fe3"
      },
      "execution_count": null,
      "outputs": [
        {
          "output_type": "stream",
          "name": "stdout",
          "text": [
            "Drive already mounted at /content/drive; to attempt to forcibly remount, call drive.mount(\"/content/drive\", force_remount=True).\n"
          ]
        }
      ]
    },
    {
      "cell_type": "markdown",
      "source": [
        "Saving the Pretrained Model"
      ],
      "metadata": {
        "id": "WYt23BfpwgDh"
      }
    },
    {
      "cell_type": "code",
      "source": [
        "from tensorflow.keras.models import load_model\n",
        "model.save('/content/gdrive/MyDrive/Colab Notebooks/saved model/trainedmodel.hdf5')"
      ],
      "metadata": {
        "id": "HYvq1L91l8JV",
        "colab": {
          "base_uri": "https://localhost:8080/"
        },
        "outputId": "a5c68948-dd8f-484f-8981-50325d1c8e92"
      },
      "execution_count": null,
      "outputs": [
        {
          "output_type": "stream",
          "name": "stderr",
          "text": [
            "/usr/local/lib/python3.10/dist-packages/keras/src/engine/training.py:3103: UserWarning: You are saving your model as an HDF5 file via `model.save()`. This file format is considered legacy. We recommend using instead the native Keras format, e.g. `model.save('my_model.keras')`.\n",
            "  saving_api.save_model(\n"
          ]
        }
      ]
    },
    {
      "cell_type": "markdown",
      "source": [
        "Loading the Pretrained Model"
      ],
      "metadata": {
        "id": "n12XdO4jwpqx"
      }
    },
    {
      "cell_type": "code",
      "source": [
        "import numpy as np\n",
        "from tensorflow.keras.models import load_model"
      ],
      "metadata": {
        "id": "Y0wG8Zrh8P6T"
      },
      "execution_count": null,
      "outputs": []
    },
    {
      "cell_type": "code",
      "source": [
        "pretrained_model = load_model('/content/gdrive/MyDrive/Colab Notebooks/saved model/trainedmodel.hdf5')"
      ],
      "metadata": {
        "id": "sBTnbMz58fM6"
      },
      "execution_count": null,
      "outputs": []
    },
    {
      "cell_type": "markdown",
      "source": [
        "Prediction for row - 1"
      ],
      "metadata": {
        "id": "FvpM1uyrwvhX"
      }
    },
    {
      "cell_type": "code",
      "source": [
        "t_amb =0.777777777777778\n",
        "soc =0.360934373656399\n",
        "voltage =0.990475434558298\n",
        "current =0.999533426648004\n",
        "unknown_c_rate =0.666666666666667\n",
        "input_data = np.array([[t_amb, soc, voltage,current,unknown_c_rate ]])\n",
        "input_data = np.reshape(input_data, (input_data.shape[0], 5, 1))\n"
      ],
      "metadata": {
        "id": "eaMErS5R8--a"
      },
      "execution_count": null,
      "outputs": []
    },
    {
      "cell_type": "code",
      "source": [
        "predictions = pretrained_model.predict(input_data)"
      ],
      "metadata": {
        "colab": {
          "base_uri": "https://localhost:8080/"
        },
        "id": "LQPVeUYs_KQP",
        "outputId": "e6b8e8d9-03cf-4b29-af28-5d31c80c8b5e"
      },
      "execution_count": null,
      "outputs": [
        {
          "output_type": "stream",
          "name": "stdout",
          "text": [
            "1/1 [==============================] - 0s 69ms/step\n"
          ]
        }
      ]
    },
    {
      "cell_type": "code",
      "source": [
        "predicted_T1 = predictions[0][0]\n",
        "print(f'Predicted T1 for C_rate={unknown_c_rate}: {predicted_T1}')\n"
      ],
      "metadata": {
        "colab": {
          "base_uri": "https://localhost:8080/"
        },
        "id": "Tg0cA6-FBbpM",
        "outputId": "86eafc20-a177-4eca-d850-6d43fd8f5a13"
      },
      "execution_count": null,
      "outputs": [
        {
          "output_type": "stream",
          "name": "stdout",
          "text": [
            "Predicted T1 for C_rate=0.666666666666667: 0.7907199263572693\n"
          ]
        }
      ]
    },
    {
      "cell_type": "markdown",
      "source": [
        "Data Generation using pretrained model"
      ],
      "metadata": {
        "id": "23_39efbw3rn"
      }
    },
    {
      "cell_type": "code",
      "source": [
        "import numpy as np\n",
        "from tensorflow.keras.models import load_model\n",
        "pretrained_model = load_model('/content/gdrive/MyDrive/Colab Notebooks/saved model/trainedmodel.hdf5')\n",
        "new_data = np.random.rand(12977, 5)\n",
        "predicted_T1 = pretrained_model.predict(new_data)"
      ],
      "metadata": {
        "colab": {
          "base_uri": "https://localhost:8080/"
        },
        "id": "MTblcI7uE3OJ",
        "outputId": "f7096394-4de7-468f-e374-ec50b17c2a96"
      },
      "execution_count": null,
      "outputs": [
        {
          "output_type": "stream",
          "name": "stdout",
          "text": [
            "406/406 [==============================] - 1s 1ms/step\n"
          ]
        }
      ]
    },
    {
      "cell_type": "code",
      "source": [
        "print(\"Shape of predicted T1:\", predicted_T1.shape)"
      ],
      "metadata": {
        "colab": {
          "base_uri": "https://localhost:8080/"
        },
        "id": "XY6DmBCsHkgO",
        "outputId": "031a1067-089b-445b-a5b8-eab64e0b4f05"
      },
      "execution_count": null,
      "outputs": [
        {
          "output_type": "stream",
          "name": "stdout",
          "text": [
            "Shape of predicted T1: (12977, 1)\n"
          ]
        }
      ]
    },
    {
      "cell_type": "markdown",
      "source": [
        "Prediction for the first 20 rows"
      ],
      "metadata": {
        "id": "BNJTb45QxGc9"
      }
    },
    {
      "cell_type": "code",
      "source": [
        "print(\"Predicted T1 for the first 20 rows:\")\n",
        "for i in range(20):\n",
        "    print(\"Row {}: {}\".format(i+1, predicted_T1[i]))\n"
      ],
      "metadata": {
        "colab": {
          "base_uri": "https://localhost:8080/"
        },
        "id": "aNxMSbcIHzH-",
        "outputId": "64b5a950-032a-4e3d-f4a5-b1e1aa540bf8"
      },
      "execution_count": null,
      "outputs": [
        {
          "output_type": "stream",
          "name": "stdout",
          "text": [
            "Predicted T1 for the first 20 rows:\n",
            "Row 1: [0.4914539]\n",
            "Row 2: [0.44956896]\n",
            "Row 3: [0.7370317]\n",
            "Row 4: [0.7163327]\n",
            "Row 5: [0.82635057]\n",
            "Row 6: [0.9998108]\n",
            "Row 7: [0.19922875]\n",
            "Row 8: [0.6382763]\n",
            "Row 9: [0.2173842]\n",
            "Row 10: [0.55774885]\n",
            "Row 11: [0.6404726]\n",
            "Row 12: [0.9529195]\n",
            "Row 13: [0.76719147]\n",
            "Row 14: [0.9663171]\n",
            "Row 15: [0.98543006]\n",
            "Row 16: [0.51204664]\n",
            "Row 17: [0.9779297]\n",
            "Row 18: [0.71593124]\n",
            "Row 19: [0.7430695]\n",
            "Row 20: [0.3478568]\n"
          ]
        }
      ]
    },
    {
      "cell_type": "markdown",
      "source": [
        "Saving the predicted data in csv format"
      ],
      "metadata": {
        "id": "Z11eMPV-xMCp"
      }
    },
    {
      "cell_type": "code",
      "source": [
        "np.savetxt(\"/content/gdrive/MyDrive/predicted_T1.csv\", predicted_T1, delimiter=\",\")\n"
      ],
      "metadata": {
        "id": "t4NbFG1MJYfE"
      },
      "execution_count": null,
      "outputs": []
    },
    {
      "cell_type": "markdown",
      "source": [
        "Loading the original datra for C_rate = 1 and printing the value deviation for the first 20 rows"
      ],
      "metadata": {
        "id": "9SXJz3X1xS2u"
      }
    },
    {
      "cell_type": "code",
      "source": [
        "original_data = pd.read_excel('c1data.xlsx')\n",
        "actual_T1 = original_data.iloc[:, -1].values\n",
        "num_rows = 20\n",
        "selected_original_data =original_data.iloc[:num_rows, :-1]\n",
        "new_data = np.random.rand(num_rows,5)"
      ],
      "metadata": {
        "id": "Fgc9tPxvLCRx"
      },
      "execution_count": null,
      "outputs": []
    },
    {
      "cell_type": "code",
      "source": [
        "predicted_T1 = pretrained_model.predict(new_data)\n"
      ],
      "metadata": {
        "colab": {
          "base_uri": "https://localhost:8080/"
        },
        "id": "fqdHzH5LLoaI",
        "outputId": "db6605b5-47ed-4081-b7a3-33f2aca51c94"
      },
      "execution_count": null,
      "outputs": [
        {
          "output_type": "stream",
          "name": "stdout",
          "text": [
            "1/1 [==============================] - 0s 20ms/step\n"
          ]
        }
      ]
    },
    {
      "cell_type": "code",
      "source": [
        "selected_actual_T1 = actual_T1[:num_rows]\n",
        "deviation = np.abs(predicted_T1.flatten() -selected_actual_T1 )\n",
        "print(\"Deviation for the first {} rows:\".format(num_rows))\n",
        "for dev in deviation:\n",
        "  print(dev)\n"
      ],
      "metadata": {
        "colab": {
          "base_uri": "https://localhost:8080/"
        },
        "id": "1jP-l4xWLz-W",
        "outputId": "b948bff9-1b89-49d1-b5ec-620e31df6086"
      },
      "execution_count": null,
      "outputs": [
        {
          "output_type": "stream",
          "name": "stdout",
          "text": [
            "Deviation for the first 20 rows:\n",
            "0.6059482376122669\n",
            "0.28005872977073243\n",
            "0.1702225094415447\n",
            "0.5126187723436082\n",
            "0.08473821411484617\n",
            "0.2526143851067608\n",
            "0.17448746842288587\n",
            "0.3993041889706601\n",
            "0.6310760698413056\n",
            "0.15518803240085333\n",
            "0.040350361483981634\n",
            "0.45158683089423846\n",
            "0.5207694987041578\n",
            "0.5989176093602021\n",
            "0.2074279187551854\n",
            "0.19030053795717772\n",
            "0.3133597107724382\n",
            "0.37161477384296493\n",
            "0.0034852831333233025\n",
            "0.257967574912101\n"
          ]
        }
      ]
    },
    {
      "cell_type": "markdown",
      "source": [
        "Loading data for C_rate = 2"
      ],
      "metadata": {
        "id": "yw2Nr8jRj_vi"
      }
    },
    {
      "cell_type": "code",
      "source": [
        "data2 = pd.read_excel('c2datafinal.xlsx')"
      ],
      "metadata": {
        "id": "o68bd9oXD_Gc"
      },
      "execution_count": null,
      "outputs": []
    },
    {
      "cell_type": "markdown",
      "source": [
        "Defining and printing input(T(amb), SOC, Voltage(v), Current(A), and C rate) & output(T1)"
      ],
      "metadata": {
        "id": "BJwXI3GikGm2"
      }
    },
    {
      "cell_type": "code",
      "source": [
        "X1 = data2.iloc[:, :-1]\n",
        "y1 = data2.iloc[:, -1]\n",
        "print(X1)\n",
        "print(y1)"
      ],
      "metadata": {
        "colab": {
          "base_uri": "https://localhost:8080/"
        },
        "id": "1WOdtTvwFY2r",
        "outputId": "939e5bd1-d1b0-4a7e-b249-7c97787f7e57"
      },
      "execution_count": null,
      "outputs": [
        {
          "output_type": "stream",
          "name": "stdout",
          "text": [
            "      T(amb)        SOC  Voltage(v)  Current(A)    C rate\n",
            "0         35  63.175190      12.596      11.672  1.333333\n",
            "1         35  99.129704      12.595       1.287  1.333333\n",
            "2         35  87.492892      12.596       4.847  1.333333\n",
            "3         30  12.380606      12.589      18.714  1.333333\n",
            "4         35   3.203149      12.410      20.001  1.333333\n",
            "...      ...        ...         ...         ...       ...\n",
            "8653      35  96.276123      12.595       2.205  1.333333\n",
            "8654      30  96.189164      12.592       2.408  1.333333\n",
            "8655      30  95.405584      12.591       2.694  1.333333\n",
            "8656      35  59.924822      12.597      12.307  1.333333\n",
            "8657      35  90.394380      12.596       4.001  1.333333\n",
            "\n",
            "[8658 rows x 5 columns]\n",
            "0       58.455737\n",
            "1       50.523726\n",
            "2       58.313339\n",
            "3       35.087097\n",
            "4       35.591606\n",
            "          ...    \n",
            "8653    53.610061\n",
            "8654    46.746955\n",
            "8655    47.344597\n",
            "8656    57.642732\n",
            "8657    57.301717\n",
            "Name: T1, Length: 8658, dtype: float64\n"
          ]
        }
      ]
    },
    {
      "cell_type": "markdown",
      "source": [
        "Importing from Scikit Learn to perform Normalization of the data"
      ],
      "metadata": {
        "id": "rLn2Jh7Dkd6e"
      }
    },
    {
      "cell_type": "code",
      "source": [
        "from sklearn.preprocessing import MinMaxScaler\n",
        "import pandas as pd\n"
      ],
      "metadata": {
        "id": "YUphsJv4H1hI"
      },
      "execution_count": null,
      "outputs": []
    },
    {
      "cell_type": "code",
      "source": [
        "scaler = MinMaxScaler()\n",
        "X1_scaled = scaler.fit_transform(X1)"
      ],
      "metadata": {
        "id": "WyB7cAzDID0U"
      },
      "execution_count": null,
      "outputs": []
    },
    {
      "cell_type": "code",
      "source": [
        "X1_processed =pd.DataFrame(X1_scaled, columns=X1.columns)\n",
        "X1_processed['C rate'] = 1.33\n",
        "y1_scaled = scaler.fit_transform(y1.values.reshape(-1, 1))"
      ],
      "metadata": {
        "id": "456ZfJJANqul"
      },
      "execution_count": null,
      "outputs": []
    },
    {
      "cell_type": "markdown",
      "source": [
        "Printing the Normalized Values"
      ],
      "metadata": {
        "id": "EPDlBPVhko2c"
      }
    },
    {
      "cell_type": "code",
      "source": [
        "print(X1_processed)\n",
        "print(y1_scaled)"
      ],
      "metadata": {
        "colab": {
          "base_uri": "https://localhost:8080/"
        },
        "id": "gfDBkbIiN71-",
        "outputId": "497ff90a-9a76-404d-c4ed-95aba3bc480f"
      },
      "execution_count": null,
      "outputs": [
        {
          "output_type": "stream",
          "name": "stdout",
          "text": [
            "        T(amb)       SOC  Voltage(v)  Current(A)  C rate\n",
            "0     0.333333  0.631752    0.998086    0.561589    1.33\n",
            "1     0.333333  0.991297    0.997703    0.015154    1.33\n",
            "2     0.333333  0.874929    0.998086    0.202473    1.33\n",
            "3     0.000000  0.123806    0.995406    0.932123    1.33\n",
            "4     0.333333  0.032031    0.926876    0.999842    1.33\n",
            "...        ...       ...         ...         ...     ...\n",
            "8653  0.333333  0.962761    0.997703    0.063457    1.33\n",
            "8654  0.000000  0.961892    0.996554    0.074138    1.33\n",
            "8655  0.000000  0.954056    0.996172    0.089187    1.33\n",
            "8656  0.333333  0.599248    0.998469    0.595001    1.33\n",
            "8657  0.333333  0.903944    0.998086    0.157958    1.33\n",
            "\n",
            "[8658 rows x 5 columns]\n",
            "[[0.94554735]\n",
            " [0.6717692 ]\n",
            " [0.9406324 ]\n",
            " ...\n",
            " [0.56203964]\n",
            " [0.917486  ]\n",
            " [0.90571566]]\n"
          ]
        }
      ]
    },
    {
      "cell_type": "markdown",
      "source": [
        "Saving the Normalized File for input"
      ],
      "metadata": {
        "id": "WOlptPeSkuNf"
      }
    },
    {
      "cell_type": "code",
      "source": [
        "output_file_path = '/content/gdrive/MyDrive/c2_normalizedinputs.csv'\n",
        "X1_processed.to_csv(output_file_path, index=False)\n",
        "print(f\"Processed data saved to {output_file_path}\")\n",
        "\n"
      ],
      "metadata": {
        "colab": {
          "base_uri": "https://localhost:8080/"
        },
        "id": "MJOip0kaWd8F",
        "outputId": "5c305ef9-c333-4391-fcf0-80e1639ac7bf"
      },
      "execution_count": null,
      "outputs": [
        {
          "output_type": "stream",
          "name": "stdout",
          "text": [
            "Processed data saved to /content/gdrive/MyDrive/c2_normalizedinputs.csv\n"
          ]
        }
      ]
    },
    {
      "cell_type": "markdown",
      "source": [
        "Saving the Normalized file for Output"
      ],
      "metadata": {
        "id": "EplJ983Nk0oI"
      }
    },
    {
      "cell_type": "code",
      "source": [
        "normalized_output = pd.DataFrame(y1_scaled, columns=['Normalized_T1'])\n",
        "output_path = '/content/gdrive/MyDrive/c2_normalized_output.csv'\n",
        "normalized_output.to_csv(output_path, index=False)"
      ],
      "metadata": {
        "id": "y049LJpHaS18"
      },
      "execution_count": null,
      "outputs": []
    },
    {
      "cell_type": "code",
      "source": [
        "Loading the Pretrained Model"
      ],
      "metadata": {
        "id": "4cmEGmmDk_zB"
      },
      "execution_count": null,
      "outputs": []
    },
    {
      "cell_type": "code",
      "source": [
        "import numpy as np\n",
        "from tensorflow.keras.models import load_model"
      ],
      "metadata": {
        "id": "aY8Y_fc8UqGp"
      },
      "execution_count": null,
      "outputs": []
    },
    {
      "cell_type": "code",
      "source": [
        "pretrained_model = load_model('/content/gdrive/MyDrive/Colab Notebooks/saved model/trainedmodel.hdf5')"
      ],
      "metadata": {
        "id": "2i3-LTdgUyya"
      },
      "execution_count": null,
      "outputs": []
    },
    {
      "cell_type": "markdown",
      "source": [
        "Prediction for Row-1 from the data of Pretrained Model"
      ],
      "metadata": {
        "id": "pKYvWXD_lD4j"
      }
    },
    {
      "cell_type": "code",
      "source": [
        "t_amb =0.777777777777778\n",
        "soc =0.360934373656399\n",
        "voltage =0.990475434558298\n",
        "current =0.999533426648004\n",
        "unknown_c_rate1 =1.3333333333\n",
        "input_data1 = np.array([[t_amb, soc, voltage,current,unknown_c_rate1 ]])\n",
        "input_data1 = np.reshape(input_data1, (input_data1.shape[0], 5, 1))\n"
      ],
      "metadata": {
        "id": "XHmhjT5jVFS9"
      },
      "execution_count": null,
      "outputs": []
    },
    {
      "cell_type": "code",
      "source": [
        "predictions2 = pretrained_model.predict(input_data1)"
      ],
      "metadata": {
        "colab": {
          "base_uri": "https://localhost:8080/"
        },
        "id": "7yVdAN1lVXP2",
        "outputId": "20341f92-cea7-40bf-9e61-33683e9d6b80"
      },
      "execution_count": null,
      "outputs": [
        {
          "output_type": "stream",
          "name": "stdout",
          "text": [
            "1/1 [==============================] - 0s 22ms/step\n"
          ]
        }
      ]
    },
    {
      "cell_type": "markdown",
      "source": [
        "Predicting Value for 1st row"
      ],
      "metadata": {
        "id": "q5Dll45flPEM"
      }
    },
    {
      "cell_type": "code",
      "source": [
        "predicted_T2 = predictions2[0][0]\n",
        "print(f'Predicted T2 for C_rate={unknown_c_rate1}: {predicted_T1}')\n"
      ],
      "metadata": {
        "colab": {
          "base_uri": "https://localhost:8080/"
        },
        "id": "R7VgNFOyVm0I",
        "outputId": "0712ae4a-f26d-4183-ac3c-f9030388c9fd"
      },
      "execution_count": null,
      "outputs": [
        {
          "output_type": "stream",
          "name": "stdout",
          "text": [
            "Predicted T2 for C_rate=1.3333333333: 0.7907199263572693\n"
          ]
        }
      ]
    },
    {
      "cell_type": "markdown",
      "source": [
        "Generating Data using Pretrained Model"
      ],
      "metadata": {
        "id": "z1gTs0JFlWs2"
      }
    },
    {
      "cell_type": "code",
      "source": [
        "import numpy as np\n",
        "from tensorflow.keras.models import load_model\n",
        "pretrained_model = load_model('/content/gdrive/MyDrive/Colab Notebooks/saved model/trainedmodel.hdf5')\n",
        "new_data1 = np.random.rand(8658, 5)\n",
        "predicted_T2 = pretrained_model.predict(new_data1)"
      ],
      "metadata": {
        "colab": {
          "base_uri": "https://localhost:8080/"
        },
        "id": "6EncnidqcX6d",
        "outputId": "2a337a2e-e8ec-49ef-da9b-45af15d140fb"
      },
      "execution_count": null,
      "outputs": [
        {
          "output_type": "stream",
          "name": "stdout",
          "text": [
            "271/271 [==============================] - 1s 2ms/step\n"
          ]
        }
      ]
    },
    {
      "cell_type": "code",
      "source": [
        "print(\"Shape of predicted T2:\", predicted_T2.shape)"
      ],
      "metadata": {
        "colab": {
          "base_uri": "https://localhost:8080/"
        },
        "id": "Wjf2fMcze7h8",
        "outputId": "b4a46336-4eb3-469d-8467-e6a8b2067c65"
      },
      "execution_count": null,
      "outputs": [
        {
          "output_type": "stream",
          "name": "stdout",
          "text": [
            "Shape of predicted T2: (8658, 1)\n"
          ]
        }
      ]
    },
    {
      "cell_type": "markdown",
      "source": [
        "Printing The Predicted Values for the first 20 rows"
      ],
      "metadata": {
        "id": "YT_hEXIold3c"
      }
    },
    {
      "cell_type": "code",
      "source": [
        "print(\"Predicted T2 for the first 20 rows:\")\n",
        "for i in range(20):\n",
        "    print(\"Row {}: {}\".format(i+1, predicted_T2[i]))\n"
      ],
      "metadata": {
        "colab": {
          "base_uri": "https://localhost:8080/"
        },
        "id": "VPbF_fdSfGfA",
        "outputId": "7086cd27-c229-4c8f-f8bf-da0679e4db0e"
      },
      "execution_count": null,
      "outputs": [
        {
          "output_type": "stream",
          "name": "stdout",
          "text": [
            "Predicted T2 for the first 20 rows:\n",
            "Row 1: [0.3157658]\n",
            "Row 2: [0.65329254]\n",
            "Row 3: [0.6277771]\n",
            "Row 4: [0.27013004]\n",
            "Row 5: [0.6793018]\n",
            "Row 6: [0.55994403]\n",
            "Row 7: [0.34637073]\n",
            "Row 8: [0.83988404]\n",
            "Row 9: [0.18687347]\n",
            "Row 10: [0.52506423]\n",
            "Row 11: [0.99973714]\n",
            "Row 12: [0.8193219]\n",
            "Row 13: [0.5470462]\n",
            "Row 14: [0.74169457]\n",
            "Row 15: [0.51704216]\n",
            "Row 16: [0.72681]\n",
            "Row 17: [0.999622]\n",
            "Row 18: [0.9809498]\n",
            "Row 19: [0.33361185]\n",
            "Row 20: [0.564912]\n"
          ]
        }
      ]
    },
    {
      "cell_type": "markdown",
      "source": [
        "Saving the File conataining Predicted values of T1 from PreTrained Moeel"
      ],
      "metadata": {
        "id": "Hy9iE_QDll6a"
      }
    },
    {
      "cell_type": "code",
      "source": [
        "np.savetxt('/content/gdrive/MyDrive/predicted_T2c2data.csv', predicted_T2, delimiter=\",\")"
      ],
      "metadata": {
        "id": "SKaK7_AzfbnH"
      },
      "execution_count": null,
      "outputs": []
    }
  ],
  "metadata": {
    "colab": {
      "provenance": []
    },
    "kernelspec": {
      "display_name": "Python 3",
      "name": "python3"
    }
  },
  "nbformat": 4,
  "nbformat_minor": 0
}